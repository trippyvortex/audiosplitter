{
  "cells": [
    {
      "cell_type": "markdown",
      "metadata": {
        "id": "view-in-github",
        "colab_type": "text"
      },
      "source": [
        "<a href=\"https://colab.research.google.com/github/trippyvortex/audiosplitter/blob/main/Audiosplitter.ipynb\" target=\"_parent\"><img src=\"https://colab.research.google.com/assets/colab-badge.svg\" alt=\"Open In Colab\"/></a>"
      ]
    },
    {
      "cell_type": "markdown",
      "source": [
        "#AUDIOSPLITER\n"
      ],
      "metadata": {
        "id": "dUPEzfaWusyB"
      }
    },
    {
      "cell_type": "code",
      "execution_count": null,
      "metadata": {
        "id": "e66ZyFPvgZp6"
      },
      "outputs": [],
      "source": [
        "\n",
        "!pip install spleeter"
      ]
    },
    {
      "cell_type": "code",
      "execution_count": null,
      "metadata": {
        "id": "FWDyxDgggiBn"
      },
      "outputs": [],
      "source": [
        "#@markdown #Run cell, and then import file#\n",
        "\n",
        "\n",
        "from google.colab import files\n",
        "uploaded = files.upload()\n",
        "\n"
      ]
    },
    {
      "cell_type": "code",
      "execution_count": null,
      "metadata": {
        "id": "1Cptt7b1hAwG"
      },
      "outputs": [],
      "source": [
        "from spleeter.separator import Separator\n",
        "\n",
        "# Initialize the Spleeter separator\n",
        "separator = Separator('spleeter:2stems')  # You can adjust the number of stems based on your requirement (2stems, 4stems, or 5stems)\n",
        "\n",
        "# Copy the path of your input audio file and specify the output directory\n",
        "input_audio_path = None#@param\n",
        "output_path = '/content/output_folder'\n",
        "\n",
        "# Specify the desired bitrate for the separated audio files\n",
        "desired_bitrate = '160kbps' #@param # You can change this to your desired bitrate\n",
        "\n",
        "# Perform audio separation\n",
        "separation = separator.separate_to_file(input_audio_path, output_path)\n",
        "\n",
        "# Convert the separated audio files to the desired bitrate\n",
        "import os\n",
        "\n",
        "for stem in os.listdir(output_path):\n",
        "    stem_path = os.path.join(output_path, stem)\n",
        "    if os.path.isfile(stem_path):\n",
        "        # Check if the file is an audio file (e.g., .wav or .mp3)\n",
        "        if stem_path.endswith(('.wav', '.mp3')):\n",
        "            # Use a tool like FFmpeg to convert the bitrate to the desired bitrate\n",
        "            os.system(f\"ffmpeg -i {stem_path} -b:a {desired_bitrate} {stem_path}\")\n",
        "\n",
        "print(f\"Conversion to {desired_bitrate} bitrate complete.\")\n"
      ]
    },
    {
      "cell_type": "code",
      "execution_count": null,
      "metadata": {
        "id": "YRlZqhYxwsYg"
      },
      "outputs": [],
      "source": [
        "#@markdown ##Downlad the isolated .wav files individually or run the next cell for a zip of all of them.\n",
        "#@markdown *(The isolated tracks are over on the far left side of screen, under the output-folder, under the song file.)*"
      ]
    },
    {
      "cell_type": "code",
      "execution_count": null,
      "metadata": {
        "id": "UX-9cftfhu0h"
      },
      "outputs": [],
      "source": [
        "#@markdown ##Optional - Create and Download a .zip file\n",
        "from google.colab import files\n",
        "zip_filename = 'output_folder.zip'\n",
        "!zip -r $zip_filename $output_path\n",
        "files.download(zip_filename)\n"
      ]
    },
    {
      "cell_type": "markdown",
      "metadata": {
        "id": "QykkPN9tRxrO"
      },
      "source": [
        "# CONVERT MP32WAV or VICE VERSA"
      ]
    },
    {
      "cell_type": "code",
      "execution_count": null,
      "metadata": {
        "colab": {
          "background_save": true
        },
        "id": "B6brTiPwQK-E"
      },
      "outputs": [],
      "source": [
        "from pydub import AudioSegment\n",
        "from google.colab import files\n",
        "\n",
        "# Function to convert a WAV file to MP3\n",
        "def wav_to_mp3(input_file, output_file):\n",
        "    audio = AudioSegment.from_wav(input_file)\n",
        "    audio.export(output_file, format=\"mp3\")\n",
        "\n",
        "# Function to convert an MP3 file to WAV\n",
        "def mp3_to_wav(input_file, output_file):\n",
        "    audio = AudioSegment.from_mp3(input_file)\n",
        "    audio.export(output_file, format=\"wav\")\n",
        "\n",
        "# Upload the audio file\n",
        "uploaded = files.upload()\n",
        "input_file = list(uploaded.keys())[0]\n",
        "\n",
        "# Ask the user whether they want to convert to MP3 or WAV\n",
        "conversion = input(\"Do you want to convert to MP3 or WAV? Enter 'mp3' or 'wav': \").lower()\n",
        "\n",
        "if conversion == \"mp3\":\n",
        "    output_file = \"converted_audio.mp3\"\n",
        "    wav_to_mp3(input_file, output_file)\n",
        "    print(\"WAV file has been converted to MP3. You can download it.\")\n",
        "\n",
        "elif conversion == \"wav\":\n",
        "    output_file = \"converted_audio.wav\"\n",
        "    mp3_to_wav(input_file, output_file)\n",
        "    print(\"MP3 file has been converted to WAV. You can download it.\")\n",
        "\n",
        "else:\n",
        "    print(\"Invalid choice. Please enter 'mp3' or 'wav' for the conversion.\")\n",
        "\n",
        "# Provide a download link for the output file\n",
        "files.download(output_file)\n"
      ]
    },
    {
      "cell_type": "code",
      "execution_count": null,
      "metadata": {
        "id": "G9PkFUSGsTq_"
      },
      "outputs": [],
      "source": [
        "!pip install spleeter\n",
        "!pip install librosa\n"
      ]
    },
    {
      "cell_type": "code",
      "execution_count": null,
      "metadata": {
        "id": "ILaa2LksupXT"
      },
      "outputs": [],
      "source": [
        "!pip install spleeter pydub audioread\n"
      ]
    },
    {
      "cell_type": "code",
      "execution_count": null,
      "metadata": {
        "cellView": "form",
        "id": "4Nhml6OjuuSH"
      },
      "outputs": [],
      "source": [
        "import os\n",
        "from pydub import AudioSegment\n",
        "from spleeter.separator import Separator\n",
        "\n",
        "# Load your MP3 audio file\n",
        "audio_file_path = \"\" #@param {type:\"string\"}\n",
        "audio = AudioSegment.from_mp3(audio_file_path)\n"
      ]
    },
    {
      "cell_type": "code",
      "execution_count": null,
      "metadata": {
        "id": "Fd3DZCndvSj6"
      },
      "outputs": [],
      "source": [
        "# Initialize Spleeter with the desired configuration ('spleeter:5stems' for 5 stems)\n",
        "separator = Separator('spleeter:5stems')\n",
        "\n",
        "# Perform audio separation\n",
        "output_directory = '/content/splitout_audio'\n",
        "os.makedirs(output_directory, exist_ok=True)\n",
        "separator.separate_to_file(audio_file_path, output_directory)\n"
      ]
    },
    {
      "cell_type": "markdown",
      "metadata": {
        "id": "bKiG6ejMRpZC"
      },
      "source": [
        "# SPLIT/CUT OR TRIM AUDIO"
      ]
    },
    {
      "cell_type": "code",
      "execution_count": null,
      "metadata": {
        "id": "NihKJp38RpLO"
      },
      "outputs": [],
      "source": []
    },
    {
      "cell_type": "code",
      "execution_count": null,
      "metadata": {
        "id": "KOltDr-vQLAx"
      },
      "outputs": [],
      "source": [
        "!pip install pydub\n",
        "from pydub import AudioSegment\n",
        "from google.colab import files"
      ]
    },
    {
      "cell_type": "code",
      "execution_count": null,
      "metadata": {
        "id": "rKN7gnx3S4yp"
      },
      "outputs": [],
      "source": [
        "\n",
        "\n",
        "# Function to split an audio file into segments\n",
        "def split_audio(input_file, start_time, end_time, output_file):\n",
        "    audio = AudioSegment.from_file(input_file)\n",
        "    segment = audio[start_time * 1000:end_time * 1000]  # Convert to milliseconds\n",
        "    segment.export(output_file, format=\"mp3\")  # You can change the format if needed\n",
        "\n",
        "# Function to trim an audio file\n",
        "def trim_audio(input_file, start_time, end_time, output_file):\n",
        "    audio = AudioSegment.from_file(input_file)\n",
        "    trimmed_audio = audio[start_time * 1000:end_time * 1000]  # Convert to milliseconds\n",
        "    trimmed_audio.export(output_file, format=\"mp3\")  # You can change the format if needed\n",
        "\n",
        "# Upload the audio file\n",
        "uploaded = files.upload()\n",
        "input_file = list(uploaded.keys())[0]\n",
        "\n",
        "# Ask the user whether they want to split or trim the audio\n",
        "action = input(\"Do you want to split or trim the audio? Enter 'split' or 'trim': \").lower()\n",
        "\n",
        "if action == \"split\":\n",
        "    # Split the audio\n",
        "    start_time = int(input(\"Enter the start time (in seconds): \"))\n",
        "    end_time = int(input(\"Enter the end time (in seconds): \"))\n",
        "    output_file = \"split_audio.mp3\"\n",
        "    split_audio(input_file, start_time, end_time, output_file)\n",
        "    print(f\"Audio has been split from {start_time} seconds to {end_time} seconds. You can download it.\")\n",
        "\n",
        "elif action == \"trim\":\n",
        "    # Trim the audio\n",
        "    start_time = int(input(\"Enter the start time (in seconds): \"))\n",
        "    end_time = int(input(\"Enter the end time (in seconds): \"))\n",
        "    output_file = \"trimmed_audio.mp3\"\n",
        "    trim_audio(input_file, start_time, end_time, output_file)\n",
        "    print(f\"Audio has been trimmed from {start_time} seconds to {end_time} seconds. You can download it.\")\n",
        "\n",
        "else:\n",
        "    print(\"Invalid choice. Please enter 'split' or 'trim' for the action.\")\n",
        "\n",
        "# Provide a download link for the output file\n",
        "files.download(output_file)\n"
      ]
    },
    {
      "cell_type": "code",
      "execution_count": null,
      "metadata": {
        "id": "JMo31DLQRxXo"
      },
      "outputs": [],
      "source": []
    }
  ],
  "metadata": {
    "colab": {
      "provenance": [],
      "collapsed_sections": [
        "dUPEzfaWusyB",
        "QykkPN9tRxrO",
        "bKiG6ejMRpZC"
      ],
      "include_colab_link": true
    },
    "kernelspec": {
      "display_name": "Python 3",
      "name": "python3"
    },
    "language_info": {
      "name": "python"
    }
  },
  "nbformat": 4,
  "nbformat_minor": 0
}