{
  "cells": [
    {
      "cell_type": "markdown",
      "metadata": {
        "id": "view-in-github",
        "colab_type": "text"
      },
      "source": [
        "<a href=\"https://colab.research.google.com/github/trippyvortex/audiosplitter/blob/main/AudioSplitter.ipynb\" target=\"_parent\"><img src=\"https://colab.research.google.com/assets/colab-badge.svg\" alt=\"Open In Colab\"/></a>"
      ]
    },
    {
      "cell_type": "markdown",
      "source": [
        "# Installing Spleeter\n",
        "\n"
      ],
      "metadata": {
        "id": "KpQ2Olj5vR0_"
      }
    },
    {
      "cell_type": "code",
      "source": [
        "!pip install spleeter\n",
        "\n"
      ],
      "metadata": {
        "id": "UKJxnsl_AcBz"
      },
      "execution_count": null,
      "outputs": []
    },
    {
      "cell_type": "markdown",
      "source": [
        "# Run cell, and then import file\n"
      ],
      "metadata": {
        "id": "WnqT_p0IvX8B"
      }
    },
    {
      "cell_type": "code",
      "source": [
        "from google.colab import files\n",
        "uploaded = files.upload()\n"
      ],
      "metadata": {
        "id": "E9yno1JtBFlO"
      },
      "execution_count": null,
      "outputs": []
    },
    {
      "cell_type": "markdown",
      "source": [
        "# Separating Audio\n"
      ],
      "metadata": {
        "id": "WQjK2nzHvhQZ"
      }
    },
    {
      "cell_type": "code",
      "source": [
        "from spleeter.separator import Separator\n",
        "\n",
        "separator = Separator('spleeter:5stems')  # You can adjust the number of stems based on your requirement\n",
        "# Copy the path of your file that you just uploaded, (over on the left side of the screen) and paste the path in the blank to right)\n",
        "input_audio_path = 'replace this text with the path to the song you just uploaded' #@param {type:\"string\"}\n",
        "output_path = '/content/output_folder'\n",
        "\n",
        "separation = separator.separate_to_file(input_audio_path, output_path)\n"
      ],
      "metadata": {
        "id": "E0ce3g3DBOp1"
      },
      "execution_count": null,
      "outputs": []
    },
    {
      "cell_type": "markdown",
      "source": [
        "# Optional - Convert .wav files to .mp3\n"
      ],
      "metadata": {
        "id": "bvz4RY96CkiI"
      }
    },
    {
      "cell_type": "code",
      "source": [
        "!pip install pydub\n",
        "!apt-get install -y ffmpeg\n",
        "\n",
        "from pydub import AudioSegment\n",
        "import os\n",
        "\n",
        "# Specify the directory containing the .wav files\n",
        "wav_directory = if you want to make mp3 copies of each stem, replace this text with the path to the folder of stems you just created  #@param Change this to your directory containing .wav files\n",
        "\n",
        "# Convert each .wav file in the directory to .mp3\n",
        "for file in os.listdir(wav_directory):\n",
        "    if file.endswith('.wav'):\n",
        "        wav_path = os.path.join(wav_directory, file)\n",
        "        mp3_path = wav_path.replace('.wav', '.mp3')\n",
        "        sound = AudioSegment.from_wav(wav_path)\n",
        "        sound.export(mp3_path, format='mp3')\n",
        "\n",
        "# List the contents of the directory to verify the conversion\n",
        "print(os.listdir(wav_directory))\n",
        "\n"
      ],
      "metadata": {
        "id": "yM8rwtAZCh6h"
      },
      "execution_count": null,
      "outputs": []
    },
    {
      "cell_type": "markdown",
      "source": [
        "# Download the isolated .wav or .mp3 files individually or run the next cell for a zip of all of them.\n",
        "# *(The isolated tracks are over on the far left side of screen, under the output-folder, under the song file.)*\n"
      ],
      "metadata": {
        "id": "4obmjRU8CKk6"
      }
    },
    {
      "cell_type": "markdown",
      "source": [
        "# Optional - Create and Download a .zip file\n"
      ],
      "metadata": {
        "id": "TRjWiHagCOXP"
      }
    },
    {
      "cell_type": "code",
      "source": [
        "from google.colab import files\n",
        "zip_filename = 'output_folder.zip'\n",
        "!zip -r $zip_filename $output_path\n",
        "files.download(zip_filename)\n"
      ],
      "metadata": {
        "id": "DvYPQsGjCLcy"
      },
      "execution_count": null,
      "outputs": []
    }
  ],
  "metadata": {
    "colab": {
      "provenance": [],
      "include_colab_link": true
    },
    "kernelspec": {
      "display_name": "Python 3",
      "name": "python3"
    }
  },
  "nbformat": 4,
  "nbformat_minor": 0
}