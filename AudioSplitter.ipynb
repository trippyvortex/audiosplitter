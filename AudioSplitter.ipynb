{
  "nbformat": 4,
  "nbformat_minor": 0,
  "metadata": {
    "colab": {
      "provenance": []
    },
    "kernelspec": {
      "name": "python3",
      "display_name": "Python 3"
    },
    "language_info": {
      "name": "python"
    }
  },
  "cells": [
    {
      "cell_type": "code",
      "execution_count": null,
      "metadata": {
        "id": "e66ZyFPvgZp6"
      },
      "outputs": [],
      "source": [
        "!pip install spleeter\n"
      ]
    },
    {
      "cell_type": "code",
      "source": [
        "#@markdown #Run cell, and then import file#\n",
        "\n",
        "\n",
        "from google.colab import files\n",
        "uploaded = files.upload()\n",
        "\n"
      ],
      "metadata": {
        "id": "FWDyxDgggiBn"
      },
      "execution_count": null,
      "outputs": []
    },
    {
      "cell_type": "code",
      "source": [
        "from spleeter.separator import Separator\n",
        "\n",
        "separator = Separator('spleeter:5stems')  # You can adjust the number of stems based on your requirement\n",
        "#@markdown Copy the path of your file that you just uploaded, (over on the left side of the screen) and paste the path in the blank below.\n",
        "input_audio_path = '/content/The Black Eyed Peas - I Gotta Feeling.mp3'#@param {type:\"string\"}\n",
        "output_path = '/content/output_folder'\n",
        "\n",
        "separation = separator.separate_to_file(input_audio_path, output_path)\n"
      ],
      "metadata": {
        "id": "1Cptt7b1hAwG"
      },
      "execution_count": null,
      "outputs": []
    },
    {
      "cell_type": "code",
      "source": [
        "#@markdown ##Downlad the isolated .wav files individually or run the next cell for a zip of all of them.\n",
        "#@markdown *(The isolated tracks are over on the far left side of screen, under the output-folder, under the song file.)*"
      ],
      "metadata": {
        "id": "YRlZqhYxwsYg"
      },
      "execution_count": null,
      "outputs": []
    },
    {
      "cell_type": "code",
      "source": [
        "#@markdown ##Optional - Create and Download a .zip file\n",
        "from google.colab import files\n",
        "zip_filename = 'output_folder.zip'\n",
        "!zip -r $zip_filename $output_path\n",
        "files.download(zip_filename)\n"
      ],
      "metadata": {
        "id": "UX-9cftfhu0h"
      },
      "execution_count": null,
      "outputs": []
    }
  ]
}